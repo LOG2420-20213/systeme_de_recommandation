{
 "cells": [
  {
   "cell_type": "markdown",
   "metadata": {
    "collapsed": true,
    "pycharm": {
     "name": "#%% md\n"
    }
   },
   "source": [
    "# [LOG2420 — Analyse et conception d’interfaces utilisateur]\n",
    "# Introduction aux systemes de recommandations\n",
    "Author: Kevin Gauthier et Jérémie David"
   ]
  },
  {
   "cell_type": "markdown",
   "metadata": {},
   "source": [
    "## Chargement des données"
   ]
  },
  {
   "cell_type": "code",
   "execution_count": 1,
   "metadata": {
    "pycharm": {
     "name": "#%%\n"
    }
   },
   "outputs": [
    {
     "data": {
      "text/html": [
       "<div>\n",
       "<style scoped>\n",
       "    .dataframe tbody tr th:only-of-type {\n",
       "        vertical-align: middle;\n",
       "    }\n",
       "\n",
       "    .dataframe tbody tr th {\n",
       "        vertical-align: top;\n",
       "    }\n",
       "\n",
       "    .dataframe thead th {\n",
       "        text-align: right;\n",
       "    }\n",
       "</style>\n",
       "<table border=\"1\" class=\"dataframe\">\n",
       "  <thead>\n",
       "    <tr style=\"text-align: right;\">\n",
       "      <th></th>\n",
       "      <th>user.id</th>\n",
       "      <th>item.id</th>\n",
       "      <th>rating</th>\n",
       "      <th>timestamp</th>\n",
       "      <th>movie id</th>\n",
       "      <th>movie title</th>\n",
       "      <th>release date</th>\n",
       "      <th>video release date</th>\n",
       "      <th>IMDb URL</th>\n",
       "      <th>unknown</th>\n",
       "      <th>...</th>\n",
       "      <th>Romance</th>\n",
       "      <th>Sci-Fi</th>\n",
       "      <th>Thriller</th>\n",
       "      <th>War</th>\n",
       "      <th>Western</th>\n",
       "      <th>id</th>\n",
       "      <th>age</th>\n",
       "      <th>gender</th>\n",
       "      <th>job</th>\n",
       "      <th>zip</th>\n",
       "    </tr>\n",
       "  </thead>\n",
       "  <tbody>\n",
       "    <tr>\n",
       "      <th>0</th>\n",
       "      <td>196</td>\n",
       "      <td>242</td>\n",
       "      <td>3</td>\n",
       "      <td>881250949</td>\n",
       "      <td>242</td>\n",
       "      <td>Kolya (1996)</td>\n",
       "      <td>24-Jan-1997</td>\n",
       "      <td>NaN</td>\n",
       "      <td>http://us.imdb.com/M/title-exact?Kolya%20(1996)</td>\n",
       "      <td>0</td>\n",
       "      <td>...</td>\n",
       "      <td>0</td>\n",
       "      <td>0</td>\n",
       "      <td>0</td>\n",
       "      <td>0</td>\n",
       "      <td>0</td>\n",
       "      <td>196</td>\n",
       "      <td>49</td>\n",
       "      <td>M</td>\n",
       "      <td>writer</td>\n",
       "      <td>55105</td>\n",
       "    </tr>\n",
       "    <tr>\n",
       "      <th>1</th>\n",
       "      <td>196</td>\n",
       "      <td>257</td>\n",
       "      <td>2</td>\n",
       "      <td>881251577</td>\n",
       "      <td>257</td>\n",
       "      <td>Men in Black (1997)</td>\n",
       "      <td>04-Jul-1997</td>\n",
       "      <td>NaN</td>\n",
       "      <td>http://us.imdb.com/M/title-exact?Men+in+Black+...</td>\n",
       "      <td>0</td>\n",
       "      <td>...</td>\n",
       "      <td>0</td>\n",
       "      <td>1</td>\n",
       "      <td>0</td>\n",
       "      <td>0</td>\n",
       "      <td>0</td>\n",
       "      <td>196</td>\n",
       "      <td>49</td>\n",
       "      <td>M</td>\n",
       "      <td>writer</td>\n",
       "      <td>55105</td>\n",
       "    </tr>\n",
       "    <tr>\n",
       "      <th>2</th>\n",
       "      <td>196</td>\n",
       "      <td>111</td>\n",
       "      <td>4</td>\n",
       "      <td>881251793</td>\n",
       "      <td>111</td>\n",
       "      <td>Truth About Cats &amp; Dogs, The (1996)</td>\n",
       "      <td>26-Apr-1996</td>\n",
       "      <td>NaN</td>\n",
       "      <td>http://us.imdb.com/M/title-exact?Truth%20About...</td>\n",
       "      <td>0</td>\n",
       "      <td>...</td>\n",
       "      <td>1</td>\n",
       "      <td>0</td>\n",
       "      <td>0</td>\n",
       "      <td>0</td>\n",
       "      <td>0</td>\n",
       "      <td>196</td>\n",
       "      <td>49</td>\n",
       "      <td>M</td>\n",
       "      <td>writer</td>\n",
       "      <td>55105</td>\n",
       "    </tr>\n",
       "    <tr>\n",
       "      <th>3</th>\n",
       "      <td>196</td>\n",
       "      <td>25</td>\n",
       "      <td>4</td>\n",
       "      <td>881251955</td>\n",
       "      <td>25</td>\n",
       "      <td>Birdcage, The (1996)</td>\n",
       "      <td>08-Mar-1996</td>\n",
       "      <td>NaN</td>\n",
       "      <td>http://us.imdb.com/M/title-exact?Birdcage,%20T...</td>\n",
       "      <td>0</td>\n",
       "      <td>...</td>\n",
       "      <td>0</td>\n",
       "      <td>0</td>\n",
       "      <td>0</td>\n",
       "      <td>0</td>\n",
       "      <td>0</td>\n",
       "      <td>196</td>\n",
       "      <td>49</td>\n",
       "      <td>M</td>\n",
       "      <td>writer</td>\n",
       "      <td>55105</td>\n",
       "    </tr>\n",
       "    <tr>\n",
       "      <th>4</th>\n",
       "      <td>196</td>\n",
       "      <td>382</td>\n",
       "      <td>4</td>\n",
       "      <td>881251843</td>\n",
       "      <td>382</td>\n",
       "      <td>Adventures of Priscilla, Queen of the Desert, ...</td>\n",
       "      <td>01-Jan-1994</td>\n",
       "      <td>NaN</td>\n",
       "      <td>http://us.imdb.com/M/title-exact?Adventures%20...</td>\n",
       "      <td>0</td>\n",
       "      <td>...</td>\n",
       "      <td>0</td>\n",
       "      <td>0</td>\n",
       "      <td>0</td>\n",
       "      <td>0</td>\n",
       "      <td>0</td>\n",
       "      <td>196</td>\n",
       "      <td>49</td>\n",
       "      <td>M</td>\n",
       "      <td>writer</td>\n",
       "      <td>55105</td>\n",
       "    </tr>\n",
       "  </tbody>\n",
       "</table>\n",
       "<p>5 rows × 33 columns</p>\n",
       "</div>"
      ],
      "text/plain": [
       "   user.id  item.id  rating  timestamp  movie id   \\\n",
       "0      196      242       3  881250949        242   \n",
       "1      196      257       2  881251577        257   \n",
       "2      196      111       4  881251793        111   \n",
       "3      196       25       4  881251955         25   \n",
       "4      196      382       4  881251843        382   \n",
       "\n",
       "                                        movie title   release date   \\\n",
       "0                                       Kolya (1996)    24-Jan-1997   \n",
       "1                                Men in Black (1997)    04-Jul-1997   \n",
       "2                Truth About Cats & Dogs, The (1996)    26-Apr-1996   \n",
       "3                               Birdcage, The (1996)    08-Mar-1996   \n",
       "4  Adventures of Priscilla, Queen of the Desert, ...    01-Jan-1994   \n",
       "\n",
       "    video release date                                           IMDb URL   \\\n",
       "0                   NaN    http://us.imdb.com/M/title-exact?Kolya%20(1996)   \n",
       "1                   NaN  http://us.imdb.com/M/title-exact?Men+in+Black+...   \n",
       "2                   NaN  http://us.imdb.com/M/title-exact?Truth%20About...   \n",
       "3                   NaN  http://us.imdb.com/M/title-exact?Birdcage,%20T...   \n",
       "4                   NaN  http://us.imdb.com/M/title-exact?Adventures%20...   \n",
       "\n",
       "    unknown   ...   Romance    Sci-Fi    Thriller    War    Western  id   \\\n",
       "0          0  ...          0         0           0      0         0  196   \n",
       "1          0  ...          0         1           0      0         0  196   \n",
       "2          0  ...          1         0           0      0         0  196   \n",
       "3          0  ...          0         0           0      0         0  196   \n",
       "4          0  ...          0         0           0      0         0  196   \n",
       "\n",
       "    age    gender     job     zip  \n",
       "0     49         M  writer  55105  \n",
       "1     49         M  writer  55105  \n",
       "2     49         M  writer  55105  \n",
       "3     49         M  writer  55105  \n",
       "4     49         M  writer  55105  \n",
       "\n",
       "[5 rows x 33 columns]"
      ]
     },
     "execution_count": 1,
     "metadata": {},
     "output_type": "execute_result"
    }
   ],
   "source": [
    "import pandas as pd\n",
    "import warnings\n",
    "warnings.filterwarnings('ignore')\n",
    "\n",
    "votes = pd.read_csv(\"data/votes.csv\", sep=\"|\")\n",
    "movies = pd.read_csv(\"data/items.csv\", sep=\"|\")\n",
    "users = pd.read_csv(\"data/u.csv\", sep=\"|\")\n",
    "\n",
    "movies_data = pd.merge(votes, movies, left_on=\"item.id\", right_on=\"movie id \")\n",
    "movies_data = pd.merge(movies_data, users, left_on=\"user.id\", right_on=\"id \")\n",
    "\n",
    "NB_USERS, NB_ITEMS = max(movies_data[\"user.id\"].values), max(movies_data[\"item.id\"].values)\n",
    "\n",
    "movies_data.head()"
   ]
  },
  {
   "cell_type": "markdown",
   "metadata": {},
   "source": [
    "## Fonctions utiles"
   ]
  },
  {
   "cell_type": "code",
   "execution_count": 2,
   "metadata": {
    "pycharm": {
     "name": "#%%\n"
    }
   },
   "outputs": [],
   "source": [
    "import numpy as np\n",
    "\n",
    "def k_fold(data, folds=2, seed=None):\n",
    "    \"\"\"\n",
    "    Train/Test split function using k folds\n",
    "    :param data: The data to train/test split into k folds\n",
    "    :param folds: Number of folds perform\n",
    "    :param seed: Seed for randomization\n",
    "    :return: Generator that can be iterated on to generate the train/test folds\n",
    "    \"\"\"\n",
    "    indices = np.arange(len(data))\n",
    "    np.random.seed(seed)\n",
    "    np.random.shuffle(indices)\n",
    "\n",
    "    index_folds = np.array_split(indices, folds)\n",
    "    for i in range(folds):\n",
    "        test_index = index_folds[i]\n",
    "        train_index = np.concatenate(np.delete(index_folds, i, axis=0), axis=0)\n",
    "        yield train_index, test_index\n",
    "\n",
    "def rmse(y_pred, y_true):\n",
    "    \"\"\"\n",
    "    Function that compute the RMSE between predictions and ground truth values\n",
    "    :param y_pred: Array of predictions\n",
    "    :param y_true: Ground truth values\n",
    "    :return: The RMSE scalar value\n",
    "    \"\"\"\n",
    "    return np.sqrt(np.average((y_true - y_pred) ** 2))\n",
    "\n",
    "\n",
    "def cosine_similarity(X):\n",
    "    \"\"\"\n",
    "    Function that compute the pairwise cosine similarity with X\n",
    "    :param X: The matrix which the pairwise cosine similarity will be computed\n",
    "    :return: Pairwise cosine similarity matrix of X\n",
    "    \"\"\"\n",
    "    X_normalized = X / np.linalg.norm(X, axis=-1)[:, np.newaxis]\n",
    "    return np.dot(X_normalized, X_normalized.T)\n"
   ]
  },
  {
   "cell_type": "markdown",
   "metadata": {
    "pycharm": {
     "name": "#%% md\n"
    }
   },
   "source": [
    "##  1. Création d'un baseline qui correspond à la moyenne de vote des items et des utilisateurs"
   ]
  },
  {
   "cell_type": "code",
   "execution_count": 3,
   "metadata": {
    "pycharm": {
     "name": "#%%\n"
    }
   },
   "outputs": [],
   "source": [
    "class BaseLineModel:\n",
    "    \"\"\"\n",
    "    Baseline model: Average together the means votes of users and items. Uses the mean of items and\n",
    "    the means of users for unseen users/items.\n",
    "\n",
    "    Implemented following sklearn's API design.\n",
    "    \"\"\"\n",
    "\n",
    "    def __init__(self):\n",
    "        \"\"\"\n",
    "        Model constructor\n",
    "        \"\"\"\n",
    "        self.users_mean = None\n",
    "        self.items_mean = None\n",
    "\n",
    "    def fit(self, X):\n",
    "        \"\"\"\n",
    "        Fit the model according to the given training data.\n",
    "        :param pd.DataFrame X: Training samples\n",
    "        \"\"\"\n",
    "        self.users_mean = X.groupby(\"user.id\").agg({\"rating\": \"mean\"})\n",
    "        self.users_mean.loc[\"UNKNOW\"] = self.users_mean.mean()\n",
    "\n",
    "        self.items_mean = X.groupby(\"item.id\").agg({\"rating\": \"mean\"})\n",
    "        self.items_mean.loc[\"UNKNOW\"] = self.items_mean.mean()\n",
    "   \n",
    "    def predict(self, X):\n",
    "        \"\"\"\n",
    "        Predict users-items rating for samples in X.\n",
    "        :rtype: np.ndarray\n",
    "        :param pd.DataFrame X: Test samples\n",
    "        :return: Predicted rating per sample.\n",
    "        \"\"\"\n",
    "        users_id = [i if i in self.users_mean.index else \"UNKNOW\" for i in X[\"user.id\"].values]\n",
    "        items_id = [i if i in self.items_mean.index else \"UNKNOW\" for i in X[\"item.id\"].values]\n",
    "\n",
    "        return (self.users_mean.loc[users_id].values.ravel() + self.items_mean.loc[items_id].values.ravel()) / 2"
   ]
  },
  {
   "cell_type": "code",
   "execution_count": 4,
   "metadata": {
    "pycharm": {
     "name": "#%%\n"
    }
   },
   "outputs": [
    {
     "name": "stdout",
     "output_type": "stream",
     "text": [
      "RMSE of Baseline Model: 0.9816119796674544\n"
     ]
    }
   ],
   "source": [
    "baseline = BaseLineModel()\n",
    "folds_mse = []\n",
    "for train_index, test_index in k_fold(movies_data, folds=10):\n",
    "    train_fold, test_fold = movies_data.iloc[train_index], movies_data.iloc[test_index]\n",
    "\n",
    "    baseline.fit(train_fold)\n",
    "    fold_prediction = baseline.predict(test_fold)\n",
    "    folds_mse.append(rmse(test_fold[\"rating\"], fold_prediction))\n",
    "\n",
    "print(\"RMSE of Baseline Model: {}\".format(np.mean(folds_mse)))"
   ]
  },
  {
   "cell_type": "code",
   "execution_count": 5,
   "metadata": {
    "pycharm": {
     "name": "#%%\n"
    }
   },
   "outputs": [
    {
     "data": {
      "text/plain": [
       "Text(0.5, 0, 'Fold')"
      ]
     },
     "execution_count": 5,
     "metadata": {},
     "output_type": "execute_result"
    },
    {
     "data": {
      "image/png": "[encoded data removed]",
      "text/plain": [
       "<Figure size 432x288 with 1 Axes>"
      ]
     },
     "metadata": {},
     "output_type": "display_data"
    }
   ],
   "source": [
    "import seaborn as sns\n",
    "\n",
    "sns.set_style(\"dark\")\n",
    "\n",
    "ax = sns.barplot(x=np.arange(1, len(folds_mse) + 1), y=folds_mse, palette=\"deep\")\n",
    "ax.axhline(np.mean(folds_mse), ls='--')\n",
    "\n",
    "ax.set_title('Baseline Model RMSE per Fold')\n",
    "ax.set_ylabel('RMSE')\n",
    "ax.set_xlabel('Fold')"
   ]
  },
  {
   "cell_type": "markdown",
   "metadata": {
    "pycharm": {
     "name": "#%% md\n"
    }
   },
   "source": [
    "## 2. Approche Item-Item avec le cosinus comme mesure de similarité (avec seulement 10 voisins)"
   ]
  },
  {
   "cell_type": "code",
   "execution_count": 6,
   "metadata": {
    "pycharm": {
     "name": "#%%\n"
    }
   },
   "outputs": [],
   "source": [
    "import scipy.sparse as sp\n",
    "\n",
    "class ItemItemModel:\n",
    "    \"\"\"\n",
    "    Item-Item model: model that follow equation 1 p.20/39 of \"filtres collaboratifs\"\n",
    "\n",
    "    Implemented following sklearn's API design.\n",
    "    \"\"\"\n",
    "\n",
    "    def __init__(self, k):\n",
    "        \"\"\"\n",
    "        Model constructor\n",
    "        :param k: Number of neighbours to perform the prediction\n",
    "        \"\"\"\n",
    "        self.k = k\n",
    "        self.sparse_x = None\n",
    "        self.similarity = None\n",
    "        self.results_matrix = None\n",
    "\n",
    "    def fit(self, X):\n",
    "        \"\"\"\n",
    "        Fit the model according to the given training data.\n",
    "        :param pd.DataFrame X: Training samples\n",
    "        \"\"\"\n",
    "        users, items, data = X[\"user.id\"].values - 1, X[\"item.id\"].values - 1, X[\"rating\"].values\n",
    "\n",
    "        # We transpose our votes matrix (Users-Items -> Items-Users) --> To directly apply the equation (1) in p.20\n",
    "        self.votes_matrix = sp.csr_matrix((data, (items, users)), shape=(NB_ITEMS, NB_USERS)).toarray()\n",
    "        self.similarity = cosine_similarity(self.votes_matrix)\n",
    "\n",
    "        self.results_matrix = np.empty(self.votes_matrix.shape)\n",
    "        neighbours = (-self.similarity).argsort(axis=1)[:, 1: self.k + 1] # Matrix that keeps the 10 neighbours for all items\n",
    "        for item in range(self.similarity.shape[0]):\n",
    "            V = self.votes_matrix[neighbours[item]]\n",
    "            mask = (V > 0)\n",
    "\n",
    "            means = V.sum(axis=1) / V.astype(bool).sum(axis=1)\n",
    "            V_0 = V - means.reshape(-1, 1)\n",
    "            np.place(V_0, ~mask, 0)\n",
    "\n",
    "            w = self.similarity[item, neighbours[item]]\n",
    "            k = 1 / np.abs(w[:, np.newaxis] * mask).sum(axis=0)\n",
    "            k[k == np.inf] = 0\n",
    "\n",
    "            row_predictions = k * (w @ V_0) + (self.votes_matrix[item].sum() / self.votes_matrix[item].astype(bool).sum())\n",
    "            self.results_matrix[item] = np.clip(row_predictions, 1, 5)\n",
    "\n",
    "    def nb_common_neigbhours(self):\n",
    "        \"\"\"\n",
    "        Function that compute the number of common neigbhours per item\n",
    "        :return: Number of common neighbours for each items (neighbours\n",
    "                that have at least one common vote)\n",
    "        \"\"\"\n",
    "        results = []\n",
    "        neighbours = (-self.similarity).argsort(axis=1)[:, 0: self.k + 1]\n",
    "        for item in range(self.similarity.shape[0]):\n",
    "            V = self.similarity[neighbours[item]]\n",
    "            mask = (V > 0).astype(int)\n",
    "            C = mask @ mask.T\n",
    "            results.append((C > 0).sum(axis=1)[0] - 1)\n",
    "\n",
    "        return results\n",
    "\n",
    "    def similarity_values(self):\n",
    "        \"\"\"\n",
    "        Function that return all the similarities (w values) used to make the predictions\n",
    "        :return: Array of similarities (w)\n",
    "        \"\"\"\n",
    "        neighbours = (-self.similarity).argsort(axis=1)[:, 1: self.k + 1]\n",
    "        w = np.empty(neighbours.shape)\n",
    "        for item in range(neighbours.shape[0]):\n",
    "            w[item] = self.similarity[item, neighbours[item]]\n",
    "\n",
    "        return w.ravel()\n",
    "\n",
    "    def nb_common_neigbhours_minus_missings(self, X):\n",
    "        \"\"\"\n",
    "        Function that return the number of actual neighbours used for all the predicitons\n",
    "        :param pd.DataFrame X: Values to predict\n",
    "        :return: Number of neighbours used for each value to predict\n",
    "        \"\"\"\n",
    "        result_matrix = np.empty(self.votes_matrix.shape)\n",
    "        neighbours = (-self.similarity).argsort(axis=1)[:, 1: self.k + 1]\n",
    "        for item in range(self.similarity.shape[0]):\n",
    "            V = self.votes_matrix[neighbours[item]]\n",
    "            mask = (V > 0)\n",
    "            nb_non_missing_votes = mask.sum(axis=0)\n",
    "            result_matrix[item] = nb_non_missing_votes\n",
    "\n",
    "        return [result_matrix[item, user] for item, user in zip(X[\"item.id\"].values - 1, X[\"user.id\"].values - 1)]\n",
    "\n",
    "    def predict(self, X):\n",
    "        \"\"\"\n",
    "        Predict users-items rating for samples in X.\n",
    "        :rtype: np.ndarray\n",
    "        :param pd.DataFrame X: Test samples\n",
    "        :return: Predicted rating per sample.\n",
    "        \"\"\"\n",
    "        return [self.results_matrix[item, user] for item, user in zip(X[\"item.id\"].values - 1, X[\"user.id\"].values - 1)]"
   ]
  },
  {
   "cell_type": "code",
   "execution_count": 7,
   "metadata": {
    "pycharm": {
     "name": "#%%\n"
    }
   },
   "outputs": [],
   "source": [
    "item_item_model = ItemItemModel(k=10)\n",
    "item_item_model.fit(movies_data)"
   ]
  },
  {
   "cell_type": "markdown",
   "metadata": {},
   "source": [
    "### Calcul pour l'item 1"
   ]
  },
  {
   "cell_type": "code",
   "execution_count": 8,
   "metadata": {
    "pycharm": {
     "name": "#%%\n"
    }
   },
   "outputs": [
    {
     "name": "stdout",
     "output_type": "stream",
     "text": [
      "RMSE of item-item model (predictions for item 1 only): 0.9176293181270241\n"
     ]
    }
   ],
   "source": [
    "item1_data = movies_data[movies_data[\"item.id\"] == 1]\n",
    "item1_predictions = item_item_model.predict(item1_data)\n",
    "\n",
    "item1_rmse_value = rmse(item1_data[\"rating\"].values, item1_predictions)\n",
    "\n",
    "print(\"RMSE of item-item model (predictions for item 1 only): {}\".format(item1_rmse_value))"
   ]
  },
  {
   "cell_type": "markdown",
   "metadata": {},
   "source": [
    "### RMSE du model Item-Item"
   ]
  },
  {
   "cell_type": "code",
   "execution_count": 9,
   "metadata": {},
   "outputs": [
    {
     "name": "stdout",
     "output_type": "stream",
     "text": [
      "RMSE of item-item model: 0.9169955278866592\n"
     ]
    },
    {
     "data": {
      "image/png": "[encoded data removed]",
      "text/plain": [
       "<Figure size 360x360 with 1 Axes>"
      ]
     },
     "metadata": {},
     "output_type": "display_data"
    }
   ],
   "source": [
    "predictions = item_item_model.predict(movies_data)\n",
    "rmse_distibution = [rmse(gt, pred) for gt, pred in zip(movies_data[\"rating\"].values, predictions)]\n",
    "\n",
    "rmse_distibution_plot = sns.displot(rmse_distibution)\n",
    "rmse_distibution_plot.set(xlabel = \"RMSE\", title=\"RMSE Distribution (for the 100k votes to predict)\")\n",
    "\n",
    "rmse_value = rmse(movies_data[\"rating\"].values, predictions)\n",
    "print(\"RMSE of item-item model: {}\".format(rmse_value))"
   ]
  },
  {
   "cell_type": "markdown",
   "metadata": {
    "pycharm": {
     "name": "#%% md\n"
    }
   },
   "source": [
    "## 2. Approche par facteur latent avec SVD"
   ]
  },
  {
   "cell_type": "code",
   "execution_count": 10,
   "metadata": {
    "pycharm": {
     "name": "#%%\n"
    }
   },
   "outputs": [],
   "source": [
    "class SVDModel:\n",
    "    \"\"\"\n",
    "    SVD model: model that perform dimensionality reduction using SVD (aka LSA).\n",
    "\n",
    "    Implemented following sklearn's API design.\n",
    "    \"\"\"\n",
    "\n",
    "    def __init__(self, n_components):\n",
    "        \"\"\"\n",
    "        Model constructor\n",
    "        :param n_components: Number of latent dimension to keep\n",
    "        \"\"\"\n",
    "        self.n_components = n_components\n",
    "        self.predictions_matrix = None\n",
    "\n",
    "    def fit(self, X):\n",
    "        \"\"\"\n",
    "        Fit the model according to the given training data.\n",
    "        :param pd.DataFrame X: Training samples\n",
    "        \"\"\"\n",
    "        users, items, data = X[\"user.id\"].values - 1, X[\"item.id\"].values - 1, X[\"rating\"].values\n",
    "        votes_matrix = sp.csr_matrix((data, (users, items)), dtype=float, shape=(NB_USERS, NB_ITEMS)).toarray()\n",
    "\n",
    "        # Filling missing values (mean of users + mean of items / 2)\n",
    "        mask = votes_matrix > 0\n",
    "        row_means = votes_matrix.sum(axis=1) / votes_matrix.astype(bool).sum(axis=1)\n",
    "        col_means = np.nan_to_num((votes_matrix.sum(axis=0) / votes_matrix.astype(bool).sum(axis=0)), nan=2.5)\n",
    "        fill_values = (row_means.reshape(-1, 1) + col_means.reshape(1, -1)) / 2\n",
    "        votes_matrix = np.where(mask, votes_matrix, fill_values)\n",
    "\n",
    "        U, s, V = np.linalg.svd(votes_matrix, full_matrices=False)\n",
    "        self.predictions_matrix = U[:, :self.n_components] @ np.diag(s[:self.n_components]) @ V[:self.n_components]\n",
    "\n",
    "    def predict(self, X):\n",
    "        \"\"\"\n",
    "        Predict users-items rating for samples in X.\n",
    "        :rtype: np.ndarray\n",
    "        :param pd.DataFrame X: Test samples\n",
    "        :return: Predicted rating per sample.\n",
    "        \"\"\"\n",
    "        results = []\n",
    "        for user, item in zip(X[\"user.id\"].values - 1, X[\"item.id\"].values - 1):\n",
    "            prediction = self.predictions_matrix[user, item]\n",
    "            results.append(np.clip(prediction, 1, 5))\n",
    "\n",
    "        return results"
   ]
  },
  {
   "cell_type": "code",
   "execution_count": 11,
   "metadata": {
    "pycharm": {
     "name": "#%%\n"
    }
   },
   "outputs": [
    {
     "name": "stdout",
     "output_type": "stream",
     "text": [
      "RMSE of SVD model (1 latent dimensions): 0.9730170903147585\n",
      "RMSE of SVD model (2 latent dimensions): 0.9643006639765808\n",
      "RMSE of SVD model (3 latent dimensions): 0.9547700012266118\n",
      "RMSE of SVD model (4 latent dimensions): 0.9536104823411733\n",
      "RMSE of SVD model (5 latent dimensions): 0.9529318461989197\n",
      "RMSE of SVD model (10 latent dimensions): 0.946093600085165\n",
      "RMSE of SVD model (15 latent dimensions): 0.9467647034041843\n",
      "RMSE of SVD model (20 latent dimensions): 0.9480652840359335\n",
      "RMSE of SVD model (25 latent dimensions): 0.9494524820212031\n",
      "RMSE of SVD model (30 latent dimensions): 0.9519456037201129\n"
     ]
    }
   ],
   "source": [
    "latent_dimensions = [1, 2, 3, 4, 5, 10, 15, 20, 25, 30]\n",
    "svd_rmse = []\n",
    "for i in latent_dimensions:\n",
    "    svd_model = SVDModel(n_components=i)\n",
    "    folds_rmse = []\n",
    "    for train_index, test_index in k_fold(movies_data, folds=5):\n",
    "        train_fold, test_fold = movies_data.iloc[train_index], movies_data.iloc[test_index]\n",
    "\n",
    "        svd_model.fit(train_fold)\n",
    "        fold_prediction = svd_model.predict(test_fold)\n",
    "        folds_rmse.append(rmse(test_fold[\"rating\"].values, fold_prediction))\n",
    "\n",
    "    svd_rmse.append(np.mean(folds_rmse))\n",
    "    print(\"RMSE of SVD model ({} latent dimensions): {}\".format(i, np.mean(folds_rmse)))"
   ]
  },
  {
   "cell_type": "code",
   "execution_count": 12,
   "metadata": {
    "pycharm": {
     "name": "#%%\n"
    }
   },
   "outputs": [
    {
     "name": "stdout",
     "output_type": "stream",
     "text": [
      "Best SVD model:\n",
      "    Number Latent Dimensions: 10\n",
      "    RMSE: 0.946093600085165\n"
     ]
    },
    {
     "data": {
      "image/png": "[encoded data removed]",
      "text/plain": [
       "<Figure size 432x288 with 1 Axes>"
      ]
     },
     "metadata": {},
     "output_type": "display_data"
    }
   ],
   "source": [
    "svd_models_rmse_plot = sns.scatterplot(x=latent_dimensions, y=svd_rmse, palette=\"deep\")\n",
    "\n",
    "svd_models_rmse_plot.set_title('SVD Model RMSE per number of components')\n",
    "svd_models_rmse_plot.set_ylabel('RMSE')\n",
    "svd_models_rmse_plot.set_xlabel('Number of Components')\n",
    "\n",
    "# Let's keep the latent dimension which had the lowest RMSE\n",
    "best_svd_model_index = np.argmin(svd_rmse)\n",
    "optimal_latent_dimensions = latent_dimensions[best_svd_model_index]\n",
    "print(\"Best SVD model:\\n    Number Latent Dimensions: {}\\n    RMSE: {}\".format(optimal_latent_dimensions, svd_rmse[best_svd_model_index]))"
   ]
  },
  {
   "cell_type": "markdown",
   "metadata": {},
   "source": [
    "## 3. Approche basée contenu"
   ]
  },
  {
   "cell_type": "markdown",
   "metadata": {},
   "source": [
    "### Chargenent des données"
   ]
  },
  {
   "cell_type": "code",
   "execution_count": 13,
   "metadata": {},
   "outputs": [
    {
     "data": {
      "text/html": [
       "<div>\n",
       "<style scoped>\n",
       "    .dataframe tbody tr th:only-of-type {\n",
       "        vertical-align: middle;\n",
       "    }\n",
       "\n",
       "    .dataframe tbody tr th {\n",
       "        vertical-align: top;\n",
       "    }\n",
       "\n",
       "    .dataframe thead th {\n",
       "        text-align: right;\n",
       "    }\n",
       "</style>\n",
       "<table border=\"1\" class=\"dataframe\">\n",
       "  <thead>\n",
       "    <tr style=\"text-align: right;\">\n",
       "      <th></th>\n",
       "      <th>100299</th>\n",
       "      <th>100967</th>\n",
       "      <th>10151</th>\n",
       "      <th>101705</th>\n",
       "      <th>101863</th>\n",
       "      <th>102458</th>\n",
       "      <th>102886</th>\n",
       "      <th>102966</th>\n",
       "      <th>10302</th>\n",
       "      <th>103700</th>\n",
       "      <th>...</th>\n",
       "      <th>96767</th>\n",
       "      <th>97060</th>\n",
       "      <th>97150</th>\n",
       "      <th>9721</th>\n",
       "      <th>97410</th>\n",
       "      <th>97863</th>\n",
       "      <th>98185</th>\n",
       "      <th>99113</th>\n",
       "      <th>9947</th>\n",
       "      <th>9993</th>\n",
       "    </tr>\n",
       "  </thead>\n",
       "  <tbody>\n",
       "    <tr>\n",
       "      <th>100299</th>\n",
       "      <td>1</td>\n",
       "      <td>0</td>\n",
       "      <td>0</td>\n",
       "      <td>0</td>\n",
       "      <td>0</td>\n",
       "      <td>0</td>\n",
       "      <td>0</td>\n",
       "      <td>0</td>\n",
       "      <td>0</td>\n",
       "      <td>0</td>\n",
       "      <td>...</td>\n",
       "      <td>0</td>\n",
       "      <td>0</td>\n",
       "      <td>0</td>\n",
       "      <td>0</td>\n",
       "      <td>0</td>\n",
       "      <td>0</td>\n",
       "      <td>0</td>\n",
       "      <td>0</td>\n",
       "      <td>0</td>\n",
       "      <td>0</td>\n",
       "    </tr>\n",
       "    <tr>\n",
       "      <th>100967</th>\n",
       "      <td>0</td>\n",
       "      <td>1</td>\n",
       "      <td>0</td>\n",
       "      <td>0</td>\n",
       "      <td>0</td>\n",
       "      <td>0</td>\n",
       "      <td>0</td>\n",
       "      <td>0</td>\n",
       "      <td>0</td>\n",
       "      <td>0</td>\n",
       "      <td>...</td>\n",
       "      <td>0</td>\n",
       "      <td>0</td>\n",
       "      <td>0</td>\n",
       "      <td>0</td>\n",
       "      <td>0</td>\n",
       "      <td>0</td>\n",
       "      <td>0</td>\n",
       "      <td>0</td>\n",
       "      <td>0</td>\n",
       "      <td>0</td>\n",
       "    </tr>\n",
       "    <tr>\n",
       "      <th>10151</th>\n",
       "      <td>0</td>\n",
       "      <td>0</td>\n",
       "      <td>1</td>\n",
       "      <td>0</td>\n",
       "      <td>0</td>\n",
       "      <td>0</td>\n",
       "      <td>0</td>\n",
       "      <td>0</td>\n",
       "      <td>0</td>\n",
       "      <td>0</td>\n",
       "      <td>...</td>\n",
       "      <td>0</td>\n",
       "      <td>0</td>\n",
       "      <td>0</td>\n",
       "      <td>0</td>\n",
       "      <td>0</td>\n",
       "      <td>0</td>\n",
       "      <td>0</td>\n",
       "      <td>0</td>\n",
       "      <td>0</td>\n",
       "      <td>0</td>\n",
       "    </tr>\n",
       "    <tr>\n",
       "      <th>101705</th>\n",
       "      <td>0</td>\n",
       "      <td>0</td>\n",
       "      <td>0</td>\n",
       "      <td>1</td>\n",
       "      <td>0</td>\n",
       "      <td>0</td>\n",
       "      <td>0</td>\n",
       "      <td>0</td>\n",
       "      <td>0</td>\n",
       "      <td>0</td>\n",
       "      <td>...</td>\n",
       "      <td>0</td>\n",
       "      <td>0</td>\n",
       "      <td>0</td>\n",
       "      <td>0</td>\n",
       "      <td>0</td>\n",
       "      <td>0</td>\n",
       "      <td>0</td>\n",
       "      <td>0</td>\n",
       "      <td>0</td>\n",
       "      <td>0</td>\n",
       "    </tr>\n",
       "    <tr>\n",
       "      <th>101863</th>\n",
       "      <td>0</td>\n",
       "      <td>0</td>\n",
       "      <td>0</td>\n",
       "      <td>0</td>\n",
       "      <td>1</td>\n",
       "      <td>0</td>\n",
       "      <td>0</td>\n",
       "      <td>0</td>\n",
       "      <td>0</td>\n",
       "      <td>0</td>\n",
       "      <td>...</td>\n",
       "      <td>0</td>\n",
       "      <td>0</td>\n",
       "      <td>0</td>\n",
       "      <td>0</td>\n",
       "      <td>0</td>\n",
       "      <td>0</td>\n",
       "      <td>0</td>\n",
       "      <td>0</td>\n",
       "      <td>0</td>\n",
       "      <td>0</td>\n",
       "    </tr>\n",
       "  </tbody>\n",
       "</table>\n",
       "<p>5 rows × 1090 columns</p>\n",
       "</div>"
      ],
      "text/plain": [
       "        100299  100967  10151  101705  101863  102458  102886  102966  10302  \\\n",
       "100299       1       0      0       0       0       0       0       0      0   \n",
       "100967       0       1      0       0       0       0       0       0      0   \n",
       "10151        0       0      1       0       0       0       0       0      0   \n",
       "101705       0       0      0       1       0       0       0       0      0   \n",
       "101863       0       0      0       0       1       0       0       0      0   \n",
       "\n",
       "        103700  ...  96767  97060  97150  9721  97410  97863  98185  99113  \\\n",
       "100299       0  ...      0      0      0     0      0      0      0      0   \n",
       "100967       0  ...      0      0      0     0      0      0      0      0   \n",
       "10151        0  ...      0      0      0     0      0      0      0      0   \n",
       "101705       0  ...      0      0      0     0      0      0      0      0   \n",
       "101863       0  ...      0      0      0     0      0      0      0      0   \n",
       "\n",
       "        9947  9993  \n",
       "100299     0     0  \n",
       "100967     0     0  \n",
       "10151      0     0  \n",
       "101705     0     0  \n",
       "101863     0     0  \n",
       "\n",
       "[5 rows x 1090 columns]"
      ]
     },
     "execution_count": 13,
     "metadata": {},
     "output_type": "execute_result"
    }
   ],
   "source": [
    "citeseer_data = pd.read_csv(\"data/citeseer.rtable\", delimiter=\" \")\n",
    "citation_matrix = citeseer_data.to_numpy()\n",
    "\n",
    "# Fill the diagonal with 1 (self citation) so that we don't have division by 0 in the page rank algo\n",
    "np.fill_diagonal(citation_matrix, 1)\n",
    "\n",
    "citeseer_data.head()"
   ]
  },
  {
   "cell_type": "code",
   "execution_count": 14,
   "metadata": {
    "scrolled": true
   },
   "outputs": [
    {
     "data": {
      "text/html": [
       "<div>\n",
       "<style scoped>\n",
       "    .dataframe tbody tr th:only-of-type {\n",
       "        vertical-align: middle;\n",
       "    }\n",
       "\n",
       "    .dataframe tbody tr th {\n",
       "        vertical-align: top;\n",
       "    }\n",
       "\n",
       "    .dataframe thead th {\n",
       "        text-align: right;\n",
       "    }\n",
       "</style>\n",
       "<table border=\"1\" class=\"dataframe\">\n",
       "  <thead>\n",
       "    <tr style=\"text-align: right;\">\n",
       "      <th></th>\n",
       "      <th>X</th>\n",
       "      <th>Titre</th>\n",
       "      <th>Auteurs</th>\n",
       "      <th>Description</th>\n",
       "      <th>Date</th>\n",
       "    </tr>\n",
       "  </thead>\n",
       "  <tbody>\n",
       "    <tr>\n",
       "      <th>100299</th>\n",
       "      <td>376</td>\n",
       "      <td>A Parallel Bottom-up Clustering Algorithm with...</td>\n",
       "      <td>Jason Cong;</td>\n",
       "      <td>In this paper, we present a bottom-up clusteri...</td>\n",
       "      <td>1995-07-09</td>\n",
       "    </tr>\n",
       "    <tr>\n",
       "      <th>100967</th>\n",
       "      <td>377</td>\n",
       "      <td>Design of heterogeneous ICs for mobile and per...</td>\n",
       "      <td>Bill Lin; Francky Catthoor; Gert Goossens; Ivo...</td>\n",
       "      <td>Mobile and personal communication systems form...</td>\n",
       "      <td>1994-08-12</td>\n",
       "    </tr>\n",
       "    <tr>\n",
       "      <th>10151</th>\n",
       "      <td>42</td>\n",
       "      <td>Behavior of Database Production Rules: Termina...</td>\n",
       "      <td>Alexander Aiken; Jennifer Widom; Joseph M. Hel...</td>\n",
       "      <td>. Static analysis methods are given for determ...</td>\n",
       "      <td>1996-06-26</td>\n",
       "    </tr>\n",
       "    <tr>\n",
       "      <th>101705</th>\n",
       "      <td>378</td>\n",
       "      <td>Synthesis for Testability Techniques for Async...</td>\n",
       "      <td>Alberto Sangiovanni-vincentelli; Kurt Keutzer;...</td>\n",
       "      <td>Our goal is to synthesize hazard-free asynchro...</td>\n",
       "      <td>1995-01-26</td>\n",
       "    </tr>\n",
       "    <tr>\n",
       "      <th>101863</th>\n",
       "      <td>379</td>\n",
       "      <td>On the Synthesis of Strategies in Infinite Games</td>\n",
       "      <td>Wolfgang Thomas;</td>\n",
       "      <td>. Infinite two-person games are a natural fram...</td>\n",
       "      <td>1997-08-18</td>\n",
       "    </tr>\n",
       "  </tbody>\n",
       "</table>\n",
       "</div>"
      ],
      "text/plain": [
       "          X                                              Titre  \\\n",
       "100299  376  A Parallel Bottom-up Clustering Algorithm with...   \n",
       "100967  377  Design of heterogeneous ICs for mobile and per...   \n",
       "10151    42  Behavior of Database Production Rules: Termina...   \n",
       "101705  378  Synthesis for Testability Techniques for Async...   \n",
       "101863  379   On the Synthesis of Strategies in Infinite Games   \n",
       "\n",
       "                                                  Auteurs  \\\n",
       "100299                                        Jason Cong;   \n",
       "100967  Bill Lin; Francky Catthoor; Gert Goossens; Ivo...   \n",
       "10151   Alexander Aiken; Jennifer Widom; Joseph M. Hel...   \n",
       "101705  Alberto Sangiovanni-vincentelli; Kurt Keutzer;...   \n",
       "101863                                   Wolfgang Thomas;   \n",
       "\n",
       "                                              Description        Date  \n",
       "100299  In this paper, we present a bottom-up clusteri...  1995-07-09  \n",
       "100967  Mobile and personal communication systems form...  1994-08-12  \n",
       "10151   . Static analysis methods are given for determ...  1996-06-26  \n",
       "101705  Our goal is to synthesize hazard-free asynchro...  1995-01-26  \n",
       "101863  . Infinite two-person games are a natural fram...  1997-08-18  "
      ]
     },
     "execution_count": 14,
     "metadata": {},
     "output_type": "execute_result"
    }
   ],
   "source": [
    "# Data loading\n",
    "abstract_data = pd.read_csv(\"data/abstracts2.csv\")\n",
    "abstract_data = abstract_data.set_index(\"Id\")\n",
    "abstract_data = abstract_data.reindex(citeseer_data.index)\n",
    "\n",
    "# Fill with empty string the documents that have null title, authors and description\n",
    "abstract_data.fillna(\"\", inplace=True)\n",
    "abstract_data.head()"
   ]
  },
  {
   "cell_type": "markdown",
   "metadata": {},
   "source": [
    "### Prétraitement des données: raw abstract descriptions --> tokenized descriptions --> lemmatized descriptions --> stemmed descriptions --> TF-IDF"
   ]
  },
  {
   "cell_type": "code",
   "execution_count": 15,
   "metadata": {},
   "outputs": [
    {
     "name": "stderr",
     "output_type": "stream",
     "text": [
      "[nltk_data] Downloading package wordnet to\n",
      "[nltk_data]     /Users/kegaub_book/nltk_data...\n",
      "[nltk_data]   Package wordnet is already up-to-date!\n",
      "[nltk_data] Downloading package stopwords to\n",
      "[nltk_data]     /Users/kegaub_book/nltk_data...\n",
      "[nltk_data]   Package stopwords is already up-to-date!\n",
      "[nltk_data] Downloading package averaged_perceptron_tagger to\n",
      "[nltk_data]     /Users/kegaub_book/nltk_data...\n",
      "[nltk_data]   Package averaged_perceptron_tagger is already up-to-\n",
      "[nltk_data]       date!\n"
     ]
    }
   ],
   "source": [
    "from sklearn.feature_extraction.text import TfidfVectorizer\n",
    "from nltk import RegexpTokenizer, SnowballStemmer, WordNetLemmatizer, pos_tag\n",
    "from nltk.corpus import wordnet as wn, stopwords\n",
    "import nltk\n",
    "import ssl\n",
    "\n",
    "try:\n",
    "    _create_unverified_https_context = ssl._create_unverified_context\n",
    "except AttributeError:\n",
    "    pass\n",
    "else:\n",
    "    ssl._create_default_https_context = _create_unverified_https_context\n",
    "\n",
    "nltk.download(\"wordnet\")\n",
    "nltk.download('stopwords')\n",
    "nltk.download('averaged_perceptron_tagger')\n",
    "\n",
    "\n",
    "class VectorSpaceModel:\n",
    "    \"\"\"\n",
    "    Vector Space Model: model that computes the cosine similarity between a list of vectors (rows of any matrix)\n",
    "\n",
    "    Implemented following sklearn's API design.\n",
    "    \"\"\"\n",
    "\n",
    "    def __init__(self, nb_predictions=10):\n",
    "        \"\"\"\n",
    "        Model constructor\n",
    "        :param nb_predictions: Number of predictions to compute\n",
    "        \"\"\"\n",
    "        self.nb_predictions = nb_predictions\n",
    "        self.neighbours = None\n",
    "\n",
    "    def fit_predict(self, X):\n",
    "        \"\"\"\n",
    "        Compute the cosine similarity for every vector (rows) in X and returns the N most similar\n",
    "        :param np.array X: input matrix to perform the similarity\n",
    "        :return: matrix containing the N most similar vectors for each vector in X (sorted by descending similarity)\n",
    "        \"\"\"\n",
    "        cosine_similarity_matrix = cosine_similarity(X)\n",
    "        self.neighbours = (-cosine_similarity_matrix).argsort(axis=1)[:, 1: self.nb_predictions + 1]\n",
    "\n",
    "        return self.neighbours\n",
    "    \n",
    "\n",
    "class DocTermMatrixModel:\n",
    "    \"\"\"\n",
    "    Document-term Matrix Model (TFIDF): Class that transform a list of documents into a TFIDF matrix\n",
    "    to perform predictions.\n",
    "\n",
    "    Implemented following sklearn's API design.\n",
    "    \"\"\"\n",
    "    def __init__(self, ngram_range=(1, 1)):\n",
    "        \"\"\"\n",
    "        Model constructor\n",
    "        :param ngram_range: The lower and upper boundary of the range of n-values\n",
    "        for different n-grams to be extracted. (Used for question 5)\n",
    "        \"\"\"\n",
    "        self.tfidf_vectorizer = TfidfVectorizer(tokenizer=self._tokenizer, ngram_range=ngram_range)\n",
    "        self.stopwords = set(stopwords.words('english'))\n",
    "        self.tokenizer = RegexpTokenizer(r'\\w+')\n",
    "        self.stemmer = SnowballStemmer(\"english\")\n",
    "        self.lemmer = WordNetLemmatizer()\n",
    "\n",
    "    @staticmethod\n",
    "    def _get_wordnet_pos(tag):\n",
    "        \"\"\"\n",
    "        Function that returns the wordnet pos tag to pass to the WordNetLemmatizer\n",
    "        :param tag: the tag returned by the pos_tag function\n",
    "        :return: the tag expected by WordNetLemmatizer\n",
    "        \"\"\"\n",
    "        if tag.startswith('J'):\n",
    "            return wn.ADJ\n",
    "        elif tag.startswith('V'):\n",
    "            return wn.VERB\n",
    "        elif tag.startswith('N'):\n",
    "            return wn.NOUN\n",
    "        elif tag.startswith('R'):\n",
    "            return wn.ADV\n",
    "        else:\n",
    "            return wn.NOUN\n",
    "\n",
    "    def _tokenizer(self, text):\n",
    "        \"\"\"\n",
    "        Function that preprocesses (tokenize, stem and lemmatize) a text\n",
    "        :param text: the text to preprocess\n",
    "        :return: the text preprocessed into a list of token\n",
    "        \"\"\"\n",
    "        tokens = self.tokenizer.tokenize(text)\n",
    "        processed_tokens = []\n",
    "        for token, tag in pos_tag(tokens):\n",
    "            if token.lower() not in self.stopwords and len(token) > 1 and token.isalpha():\n",
    "                lem_token = self.lemmer.lemmatize(token, self._get_wordnet_pos(tag))\n",
    "                stem_token = self.stemmer.stem(lem_token)\n",
    "                processed_tokens.append(stem_token)\n",
    "\n",
    "        return processed_tokens\n",
    "\n",
    "    def fit_transform(self, X):\n",
    "        \"\"\"\n",
    "        Fit the model according to the given training data and return the document-term matrix.\n",
    "        Learn the vocabulary and the idf\n",
    "        :param X: the documents\n",
    "        :return: the document-term matrix\n",
    "        \"\"\"\n",
    "        return self.tfidf_vectorizer.fit_transform(X)"
   ]
  },
  {
   "cell_type": "code",
   "execution_count": 16,
   "metadata": {},
   "outputs": [],
   "source": [
    "term_doc_matrix_model = DocTermMatrixModel()\n",
    "TFIDF_matrix = term_doc_matrix_model.fit_transform(abstract_data[\"Description\"])"
   ]
  },
  {
   "cell_type": "markdown",
   "metadata": {},
   "source": [
    "### Exemple de recommandation pour un document"
   ]
  },
  {
   "cell_type": "code",
   "execution_count": 17,
   "metadata": {},
   "outputs": [
    {
     "name": "stdout",
     "output_type": "stream",
     "text": [
      "Documents to recommend (for doc 422908):\n"
     ]
    },
    {
     "data": {
      "text/html": [
       "<div>\n",
       "<style scoped>\n",
       "    .dataframe tbody tr th:only-of-type {\n",
       "        vertical-align: middle;\n",
       "    }\n",
       "\n",
       "    .dataframe tbody tr th {\n",
       "        vertical-align: top;\n",
       "    }\n",
       "\n",
       "    .dataframe thead th {\n",
       "        text-align: right;\n",
       "    }\n",
       "</style>\n",
       "<table border=\"1\" class=\"dataframe\">\n",
       "  <thead>\n",
       "    <tr style=\"text-align: right;\">\n",
       "      <th></th>\n",
       "      <th>X</th>\n",
       "      <th>Titre</th>\n",
       "      <th>Auteurs</th>\n",
       "      <th>Description</th>\n",
       "      <th>Date</th>\n",
       "    </tr>\n",
       "  </thead>\n",
       "  <tbody>\n",
       "    <tr>\n",
       "      <th>373307</th>\n",
       "      <td>932</td>\n",
       "      <td>An Efficient Generation of the Timed Reachabil...</td>\n",
       "      <td>Inhye Kang; Insup Lee;</td>\n",
       "      <td>As computers become ubiquitous, they are incre...</td>\n",
       "      <td>1996-03-07</td>\n",
       "    </tr>\n",
       "    <tr>\n",
       "      <th>147460</th>\n",
       "      <td>520</td>\n",
       "      <td>Minimization of Timed Transition Systems</td>\n",
       "      <td>C. Courcoubetis; D. Dill; H. Wong-toi; N. Halb...</td>\n",
       "      <td>this paper, we show how to apply state-minimiz...</td>\n",
       "      <td>1996-08-06</td>\n",
       "    </tr>\n",
       "    <tr>\n",
       "      <th>53595</th>\n",
       "      <td>223</td>\n",
       "      <td>Reducing the Number of Clock Variables of Time...</td>\n",
       "      <td>C. Daws; S. Yovine;</td>\n",
       "      <td>We propose a method for reducing the number of...</td>\n",
       "      <td>1996-09-09</td>\n",
       "    </tr>\n",
       "    <tr>\n",
       "      <th>120172</th>\n",
       "      <td>441</td>\n",
       "      <td>Hardware Timing Verification using KRONOS</td>\n",
       "      <td>Oded Maler; Sergio Yovine;</td>\n",
       "      <td>In this paper we describe the KRONOS system, a...</td>\n",
       "      <td>1996-05-03</td>\n",
       "    </tr>\n",
       "    <tr>\n",
       "      <th>149673</th>\n",
       "      <td>526</td>\n",
       "      <td>Back to the Future: Towards a Theory of Timed ...</td>\n",
       "      <td>Rajeev Alur; Thomas A. Henzinger;</td>\n",
       "      <td>: Timed automata are finite-state machines con...</td>\n",
       "      <td>1997-06-17</td>\n",
       "    </tr>\n",
       "    <tr>\n",
       "      <th>110303</th>\n",
       "      <td>411</td>\n",
       "      <td>Temporal Proof Methodologies for Real-time Sys...</td>\n",
       "      <td>Amir Pnueli; Thomas A. Henzinger; Zohar Manna;</td>\n",
       "      <td>. We extend the specification language of temp...</td>\n",
       "      <td>1999-02-05</td>\n",
       "    </tr>\n",
       "    <tr>\n",
       "      <th>155792</th>\n",
       "      <td>539</td>\n",
       "      <td>Logics and Models of Real Time: A Survey</td>\n",
       "      <td>Rajeev Alur; Thomas A. Henzinger;</td>\n",
       "      <td>. We survey logic-based and automata-based lan...</td>\n",
       "      <td>1997-06-17</td>\n",
       "    </tr>\n",
       "    <tr>\n",
       "      <th>96767</th>\n",
       "      <td>369</td>\n",
       "      <td>Model-Checking in Dense Real-time</td>\n",
       "      <td>Costas Courcoubetis; David Dill; Rajeev Alur;</td>\n",
       "      <td>. Model-checking is a method of verifying conc...</td>\n",
       "      <td>1997-06-17</td>\n",
       "    </tr>\n",
       "    <tr>\n",
       "      <th>426325</th>\n",
       "      <td>991</td>\n",
       "      <td>What Good Are Digital Clocks?</td>\n",
       "      <td>Amir Pnueli; Thomas A. Henzinger; Zohar Manna;</td>\n",
       "      <td>. Real-time systems operate in \"real,\" continu...</td>\n",
       "      <td>1994-09-19</td>\n",
       "    </tr>\n",
       "    <tr>\n",
       "      <th>322240</th>\n",
       "      <td>840</td>\n",
       "      <td>Verification of Linear Hybrid Systems By Means...</td>\n",
       "      <td>Nicolas Halbwachs; Pascal Raymond; Yann-eric P...</td>\n",
       "      <td>We present a new application of the abstract i...</td>\n",
       "      <td>1999-12-15</td>\n",
       "    </tr>\n",
       "  </tbody>\n",
       "</table>\n",
       "</div>"
      ],
      "text/plain": [
       "          X                                              Titre  \\\n",
       "373307  932  An Efficient Generation of the Timed Reachabil...   \n",
       "147460  520           Minimization of Timed Transition Systems   \n",
       "53595   223  Reducing the Number of Clock Variables of Time...   \n",
       "120172  441          Hardware Timing Verification using KRONOS   \n",
       "149673  526  Back to the Future: Towards a Theory of Timed ...   \n",
       "110303  411  Temporal Proof Methodologies for Real-time Sys...   \n",
       "155792  539           Logics and Models of Real Time: A Survey   \n",
       "96767   369                  Model-Checking in Dense Real-time   \n",
       "426325  991                      What Good Are Digital Clocks?   \n",
       "322240  840  Verification of Linear Hybrid Systems By Means...   \n",
       "\n",
       "                                                  Auteurs  \\\n",
       "373307                             Inhye Kang; Insup Lee;   \n",
       "147460  C. Courcoubetis; D. Dill; H. Wong-toi; N. Halb...   \n",
       "53595                                 C. Daws; S. Yovine;   \n",
       "120172                         Oded Maler; Sergio Yovine;   \n",
       "149673                  Rajeev Alur; Thomas A. Henzinger;   \n",
       "110303     Amir Pnueli; Thomas A. Henzinger; Zohar Manna;   \n",
       "155792                  Rajeev Alur; Thomas A. Henzinger;   \n",
       "96767       Costas Courcoubetis; David Dill; Rajeev Alur;   \n",
       "426325     Amir Pnueli; Thomas A. Henzinger; Zohar Manna;   \n",
       "322240  Nicolas Halbwachs; Pascal Raymond; Yann-eric P...   \n",
       "\n",
       "                                              Description        Date  \n",
       "373307  As computers become ubiquitous, they are incre...  1996-03-07  \n",
       "147460  this paper, we show how to apply state-minimiz...  1996-08-06  \n",
       "53595   We propose a method for reducing the number of...  1996-09-09  \n",
       "120172  In this paper we describe the KRONOS system, a...  1996-05-03  \n",
       "149673  : Timed automata are finite-state machines con...  1997-06-17  \n",
       "110303  . We extend the specification language of temp...  1999-02-05  \n",
       "155792  . We survey logic-based and automata-based lan...  1997-06-17  \n",
       "96767   . Model-checking is a method of verifying conc...  1997-06-17  \n",
       "426325  . Real-time systems operate in \"real,\" continu...  1994-09-19  \n",
       "322240  We present a new application of the abstract i...  1999-12-15  "
      ]
     },
     "execution_count": 17,
     "metadata": {},
     "output_type": "execute_result"
    }
   ],
   "source": [
    "tfidf_model = VectorSpaceModel(nb_predictions=10)\n",
    "recommendation_indices = tfidf_model.fit_predict(TFIDF_matrix.toarray())\n",
    "\n",
    "print(\"Documents to recommend (for doc 422908):\")\n",
    "doc_id = abstract_data.index.get_loc(422908)\n",
    "abstract_data.iloc[recommendation_indices[doc_id]]"
   ]
  },
  {
   "cell_type": "code",
   "execution_count": 18,
   "metadata": {},
   "outputs": [
    {
     "name": "stdout",
     "output_type": "stream",
     "text": [
      "Document 422908:\n"
     ]
    },
    {
     "data": {
      "text/plain": [
       "X                                                            983\n",
       "Titre              Symbolic Model Checking for Real-time Systems\n",
       "Auteurs        Joseph Sifakis; Miniparc-zirst Rue Lavoisier; ...\n",
       "Description    . We describe finite-state programs over real-...\n",
       "Date                                                  1996-07-12\n",
       "Name: 422908, dtype: object"
      ]
     },
     "execution_count": 18,
     "metadata": {},
     "output_type": "execute_result"
    }
   ],
   "source": [
    "print(\"Document 422908:\")\n",
    "abstract_data.loc[422908]"
   ]
  }
 ],
 "metadata": {
  "kernelspec": {
   "display_name": "Python 3 (ipykernel)",
   "language": "python",
   "name": "python3"
  },
  "language_info": {
   "codemirror_mode": {
    "name": "ipython",
    "version": 3
   },
   "file_extension": ".py",
   "mimetype": "text/x-python",
   "name": "python",
   "nbconvert_exporter": "python",
   "pygments_lexer": "ipython3",
   "version": "3.9.6"
  }
 },
 "nbformat": 4,
 "nbformat_minor": 1
}
